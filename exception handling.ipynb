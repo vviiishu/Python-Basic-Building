{
 "cells": [
  {
   "cell_type": "code",
   "execution_count": 2,
   "id": "e617df55-3522-412c-b564-1368284ef2a5",
   "metadata": {},
   "outputs": [
    {
     "name": "stdin",
     "output_type": "stream",
     "text": [
      "enter value for a 0\n"
     ]
    },
    {
     "ename": "ZeroDivisionError",
     "evalue": "division by zero",
     "output_type": "error",
     "traceback": [
      "\u001b[0;31m---------------------------------------------------------------------------\u001b[0m",
      "\u001b[0;31mZeroDivisionError\u001b[0m                         Traceback (most recent call last)",
      "Cell \u001b[0;32mIn[2], line 3\u001b[0m\n\u001b[1;32m      1\u001b[0m a\u001b[38;5;241m=\u001b[39m\u001b[38;5;28mint\u001b[39m(\u001b[38;5;28minput\u001b[39m(\u001b[38;5;124m\"\u001b[39m\u001b[38;5;124menter value for a\u001b[39m\u001b[38;5;124m\"\u001b[39m))    \u001b[38;5;66;03m#ye piece of code me chance hai ki error aa jaye agr a ka value zero ya string liye                                   \u001b[39;00m\n\u001b[1;32m      2\u001b[0m b\u001b[38;5;241m=\u001b[39m\u001b[38;5;241m40\u001b[39m\n\u001b[0;32m----> 3\u001b[0m c\u001b[38;5;241m=\u001b[39m\u001b[43mb\u001b[49m\u001b[38;5;241;43m/\u001b[39;49m\u001b[43ma\u001b[49m\n\u001b[1;32m      4\u001b[0m \u001b[38;5;28mprint\u001b[39m(\u001b[38;5;124m\"\u001b[39m\u001b[38;5;124mvalue of c is : \u001b[39m\u001b[38;5;124m\"\u001b[39m ,c)\n",
      "\u001b[0;31mZeroDivisionError\u001b[0m: division by zero"
     ]
    }
   ],
   "source": [
    "a=int(input(\"enter value for a\"))    #ye piece of code me chance hai ki error aa jaye agr a ka value zero ya string liye                                   \n",
    "b=40\n",
    "c=b/a\n",
    "print(\"value of c is : \" ,c)"
   ]
  },
  {
   "cell_type": "code",
   "execution_count": 5,
   "id": "3b3426ce-ba7b-4ce6-8d1a-96810a1cf8ee",
   "metadata": {},
   "outputs": [
    {
     "name": "stdin",
     "output_type": "stream",
     "text": [
      "enter value for a :  0\n"
     ]
    },
    {
     "name": "stdout",
     "output_type": "stream",
     "text": [
      "plz enter correct value for a\n",
      "except ke bad me hai isliye hmesa chlega agr except ni lagye rhte to aage ka code ni run krta\n"
     ]
    }
   ],
   "source": [
    "try:    \n",
    "    a=int(input(\"enter value for a : \"))          \n",
    "    \n",
    "    b=40\n",
    "    c=b/a                        #jis code pe risk hai ki runtime error aane ka agr user\n",
    "    print(\"value of c is : \" ,c) # galti input dale to try and except ka use kre\n",
    "except:\n",
    "    print(\"plz enter correct value for a\") \n",
    "\n",
    "print(\"except ke bad me hai isliye hmesa chlega agr except ni lagye rhte to aage ka code ni run krta\")"
   ]
  },
  {
   "cell_type": "code",
   "execution_count": 6,
   "id": "db54f6b7-fe22-4a0c-81a5-2ea9e3e1bd4f",
   "metadata": {},
   "outputs": [
    {
     "name": "stdin",
     "output_type": "stream",
     "text": [
      "enter value for a 5\n"
     ]
    },
    {
     "name": "stdout",
     "output_type": "stream",
     "text": [
      "value of c is :  8.0\n",
      "except ke bad me hai isliye hmesa chlega agr except ni lagye rhte to aage ka code ni run krta\n"
     ]
    }
   ],
   "source": [
    "try:    \n",
    "    a=int(input(\"enter value for a\"))                                       \n",
    "    b=40\n",
    "    c=b/a\n",
    "    print(\"value of c is : \" ,c)\n",
    "except:\n",
    "    print(\"plz enter correct value for a\") \n",
    "\n",
    "print(\"except ke bad me hai isliye hmesa chlega agr except ni lagye rhte to aage ka code ni run krta\")"
   ]
  },
  {
   "cell_type": "code",
   "execution_count": 7,
   "id": "ab2c4b7b-9fe1-4578-b925-97e3f60e83c6",
   "metadata": {},
   "outputs": [
    {
     "name": "stdin",
     "output_type": "stream",
     "text": [
      "enter value for a 0\n"
     ]
    },
    {
     "name": "stdout",
     "output_type": "stream",
     "text": [
      "plz enter correct value for a\n",
      "ye block hmesa execute krega\n",
      "except ke bad me hai isliye hmesa chlega agr except ni lagye rhte to aage ka code ni run krta\n"
     ]
    }
   ],
   "source": [
    "try:    \n",
    "    a=int(input(\"enter value for a\"))                                       \n",
    "    b=40\n",
    "    c=b/a\n",
    "    print(\"value of c is : \" ,c)\n",
    "except:\n",
    "    print(\"plz enter correct value for a\") \n",
    "finally:\n",
    "    print(\"ye block hmesa execute krega\")    #server se data niklte time data crash hua to connectivity band krna padega \n",
    "\n",
    "print(\"except ke bad me hai isliye hmesa chlega agr except ni lagye rhte to aage ka code ni run krta\")"
   ]
  },
  {
   "cell_type": "code",
   "execution_count": 9,
   "id": "1113dfb7-2b40-41a6-b989-44d2d9babc21",
   "metadata": {},
   "outputs": [
    {
     "name": "stdin",
     "output_type": "stream",
     "text": [
      "enter value for a :  \"ram\"\n"
     ]
    },
    {
     "name": "stdout",
     "output_type": "stream",
     "text": [
      "plz enter correct value for a :  invalid literal for int() with base 10: '\"ram\"'\n",
      "ye block hmesa execute krega\n",
      "except ke bad me hai isliye hmesa chlega agr except ni lagye rhte to aage ka code ni run krta\n"
     ]
    }
   ],
   "source": [
    "try:    \n",
    "    a=int(input(\"enter value for a : \"))                                       \n",
    "    b=40\n",
    "    c=b/a\n",
    "    print(\"value of c is : \" ,c)\n",
    "except Exception as e:          # exception superclass use kr rhe h taki msg retrieve kr paye ki kya error aa rha hai\n",
    "    print(\"plz enter correct value for a : \",e)  \n",
    "finally:\n",
    "    print(\"ye block hmesa execute krega\")    #server se data niklte time data crash hua to connectivity band krna padega \n",
    "\n",
    "print(\"except ke bad me hai isliye hmesa chlega agr except ni lagye rhte to aage ka code ni run krta\")"
   ]
  },
  {
   "cell_type": "code",
   "execution_count": 13,
   "id": "fb861377-09bf-4c2a-9c0a-a5b7c80643d4",
   "metadata": {},
   "outputs": [
    {
     "name": "stdin",
     "output_type": "stream",
     "text": [
      "enter value for a :  \"ram\"\n"
     ]
    },
    {
     "name": "stdout",
     "output_type": "stream",
     "text": [
      "plz enter correct value for a :  invalid literal for int() with base 10: '\"ram\"'\n",
      "ye block hmesa execute krega\n",
      "except ke bad me hai isliye hmesa chlega agr except ni lagye rhte to aage ka code ni run krta\n"
     ]
    }
   ],
   "source": [
    "try:    \n",
    "    a=int(input(\"enter value for a : \"))                                       \n",
    "    b=40\n",
    "    c=b/a\n",
    "    print(\"value of c is : \" ,c)\n",
    "except ValueError as e:          # exception valu error use kr rhe h taki msg retrieve kr paye ki kya error aa rha hai\n",
    "    print(\"plz enter correct value for a : \",e)   #kewal value error pakdega,zero error ni  \n",
    "finally:\n",
    "    print(\"ye block hmesa execute krega\")    #server se data niklte time data crash hua to connectivity band krna padega \n",
    "\n",
    "print(\"except ke bad me hai isliye hmesa chlega agr except ni lagye rhte to aage ka code ni run krta\")"
   ]
  },
  {
   "cell_type": "code",
   "execution_count": 15,
   "id": "04573073-70c2-40c1-b7ab-b7843e3616cc",
   "metadata": {},
   "outputs": [
    {
     "name": "stdin",
     "output_type": "stream",
     "text": [
      "enter value for a :  0\n"
     ]
    },
    {
     "name": "stdout",
     "output_type": "stream",
     "text": [
      "plz enter correct value for a :  division by zero\n",
      "ye block hmesa execute krega\n",
      "except ke bad me hai isliye hmesa chlega agr except ni lagye rhte to aage ka code ni run krta\n"
     ]
    }
   ],
   "source": [
    "try:    \n",
    "    a=int(input(\"enter value for a : \"))                                       \n",
    "    b=40\n",
    "    c=b/a\n",
    "    print(\"value of c is : \" ,c)\n",
    "except ZeroDivisionError as e:          # exception superclass use kr rhe h taki msg retrieve kr paye ki kya error aa rha hai\n",
    "    print(\"plz enter correct value for a : \",e)  #kewal zero division error pakdega, value error ni\n",
    "finally:\n",
    "    print(\"ye block hmesa execute krega\")    #server se data niklte time data crash hua to connectivity band krna padega \n",
    "\n",
    "print(\"except ke bad me hai isliye hmesa chlega agr except ni lagye rhte to aage ka code ni run krta\")"
   ]
  },
  {
   "cell_type": "code",
   "execution_count": 17,
   "id": "c805579e-b75c-461f-a292-68d1c1128c44",
   "metadata": {},
   "outputs": [
    {
     "name": "stdin",
     "output_type": "stream",
     "text": [
      "enter value for a :  \"ram\"\n"
     ]
    },
    {
     "name": "stdout",
     "output_type": "stream",
     "text": [
      "ye block hmesa execute krega\n"
     ]
    },
    {
     "ename": "ValueError",
     "evalue": "invalid literal for int() with base 10: '\"ram\"'",
     "output_type": "error",
     "traceback": [
      "\u001b[0;31m---------------------------------------------------------------------------\u001b[0m",
      "\u001b[0;31mValueError\u001b[0m                                Traceback (most recent call last)",
      "Cell \u001b[0;32mIn[17], line 2\u001b[0m\n\u001b[1;32m      1\u001b[0m \u001b[38;5;28;01mtry\u001b[39;00m:    \n\u001b[0;32m----> 2\u001b[0m     a\u001b[38;5;241m=\u001b[39m\u001b[38;5;28;43mint\u001b[39;49m\u001b[43m(\u001b[49m\u001b[38;5;28;43minput\u001b[39;49m\u001b[43m(\u001b[49m\u001b[38;5;124;43m\"\u001b[39;49m\u001b[38;5;124;43menter value for a : \u001b[39;49m\u001b[38;5;124;43m\"\u001b[39;49m\u001b[43m)\u001b[49m\u001b[43m)\u001b[49m                                       \n\u001b[1;32m      3\u001b[0m     b\u001b[38;5;241m=\u001b[39m\u001b[38;5;241m40\u001b[39m\n\u001b[1;32m      4\u001b[0m     c\u001b[38;5;241m=\u001b[39mb\u001b[38;5;241m/\u001b[39ma\n",
      "\u001b[0;31mValueError\u001b[0m: invalid literal for int() with base 10: '\"ram\"'"
     ]
    }
   ],
   "source": [
    "try:    \n",
    "    a=int(input(\"enter value for a : \"))                                       \n",
    "    b=40\n",
    "    c=b/a\n",
    "    print(\"value of c is : \" ,c)\n",
    "except ZeroDivisionError as e:          # exception superclass use kr rhe h taki msg retrieve kr paye ki kya error aa rha hai\n",
    "    print(\"plz enter correct value for a : \",e)  \n",
    "finally:\n",
    "    print(\"ye block hmesa execute krega\")    #server se data niklte time data crash hua to connectivity band krna padega \n",
    "\n",
    "print(\"except ke bad me hai isliye hmesa chlega agr except ni lagye rhte to aage ka code ni run krta\")"
   ]
  }
 ],
 "metadata": {
  "kernelspec": {
   "display_name": "Python 3 (ipykernel)",
   "language": "python",
   "name": "python3"
  },
  "language_info": {
   "codemirror_mode": {
    "name": "ipython",
    "version": 3
   },
   "file_extension": ".py",
   "mimetype": "text/x-python",
   "name": "python",
   "nbconvert_exporter": "python",
   "pygments_lexer": "ipython3",
   "version": "3.10.8"
  }
 },
 "nbformat": 4,
 "nbformat_minor": 5
}
