{
 "cells": [
  {
   "cell_type": "code",
   "execution_count": null,
   "id": "d59994d5-05af-4f32-8f26-e2f4d178aa98",
   "metadata": {},
   "outputs": [],
   "source": [
    "a=2"
   ]
  },
  {
   "cell_type": "code",
   "execution_count": null,
   "id": "f0d9554e-0385-45dd-8c44-683db7c76187",
   "metadata": {},
   "outputs": [
    {
     "data": {
      "text/plain": [
       "2"
      ]
     },
     "execution_count": 2,
     "metadata": {},
     "output_type": "execute_result"
    }
   ],
   "source": [
    "a"
   ]
  },
  {
   "cell_type": "code",
   "execution_count": null,
   "id": "4d9c722c-d6ab-4e4e-bfed-4e3e21f3f2e0",
   "metadata": {},
   "outputs": [],
   "source": [
    "b=2.14"
   ]
  },
  {
   "cell_type": "code",
   "execution_count": null,
   "id": "9a00e286-ed63-4cec-b295-12f45793bfe0",
   "metadata": {},
   "outputs": [
    {
     "data": {
      "text/plain": [
       "2.14"
      ]
     },
     "execution_count": 5,
     "metadata": {},
     "output_type": "execute_result"
    }
   ],
   "source": [
    "b"
   ]
  },
  {
   "cell_type": "code",
   "execution_count": 10,
   "id": "fdd88226-8bdb-4615-9f74-0706d047ad8e",
   "metadata": {},
   "outputs": [],
   "source": [
    "c=8"
   ]
  },
  {
   "cell_type": "code",
   "execution_count": 11,
   "id": "c581d6f7-bb1f-4c51-aff2-cff9a50aa4cc",
   "metadata": {},
   "outputs": [
    {
     "data": {
      "text/plain": [
       "8"
      ]
     },
     "execution_count": 11,
     "metadata": {},
     "output_type": "execute_result"
    }
   ],
   "source": [
    "c"
   ]
  },
  {
   "cell_type": "code",
   "execution_count": 13,
   "id": "7e24a466-55fc-4bf9-bde7-eedeca0a9f50",
   "metadata": {},
   "outputs": [],
   "source": [
    "d=\"ram\""
   ]
  },
  {
   "cell_type": "code",
   "execution_count": null,
   "id": "9b6634b6-2ebc-4ea2-a485-63fd55a1167f",
   "metadata": {},
   "outputs": [
    {
     "data": {
      "text/plain": [
       "'ram'"
      ]
     },
     "execution_count": 14,
     "metadata": {},
     "output_type": "execute_result"
    }
   ],
   "source": [
    "d"
   ]
  },
  {
   "cell_type": "code",
   "execution_count": 15,
   "id": "eec510d8-e70a-41e1-a64c-164befc680a1",
   "metadata": {},
   "outputs": [
    {
     "data": {
      "text/plain": [
       "str"
      ]
     },
     "execution_count": 15,
     "metadata": {},
     "output_type": "execute_result"
    }
   ],
   "source": [
    "type(d)"
   ]
  },
  {
   "cell_type": "code",
   "execution_count": 3,
   "id": "62e2daa9-8dc0-4b4f-b280-28ec48c3ec73",
   "metadata": {},
   "outputs": [],
   "source": [
    "e=2+5j"
   ]
  },
  {
   "cell_type": "code",
   "execution_count": 17,
   "id": "2324c12b-2b30-4793-90f8-3a0ea0a3def3",
   "metadata": {},
   "outputs": [
    {
     "data": {
      "text/plain": [
       "2.0"
      ]
     },
     "execution_count": 17,
     "metadata": {},
     "output_type": "execute_result"
    }
   ],
   "source": [
    "e.real"
   ]
  },
  {
   "cell_type": "code",
   "execution_count": 22,
   "id": "1ab4907a-7175-4ded-b032-4f8b1affee9f",
   "metadata": {},
   "outputs": [
    {
     "data": {
      "text/plain": [
       "2.0"
      ]
     },
     "execution_count": 22,
     "metadata": {},
     "output_type": "execute_result"
    }
   ],
   "source": [
    "e.real"
   ]
  },
  {
   "cell_type": "code",
   "execution_count": 23,
   "id": "1a55492b-fba9-4bc1-8083-8adab4e5d780",
   "metadata": {},
   "outputs": [
    {
     "data": {
      "text/plain": [
       "5.0"
      ]
     },
     "execution_count": 23,
     "metadata": {},
     "output_type": "execute_result"
    }
   ],
   "source": [
    "e.imag"
   ]
  },
  {
   "cell_type": "code",
   "execution_count": 4,
   "id": "1a4f22bd-6b46-4019-a16a-f8f7e6a33371",
   "metadata": {},
   "outputs": [
    {
     "data": {
      "text/plain": [
       "complex"
      ]
     },
     "execution_count": 4,
     "metadata": {},
     "output_type": "execute_result"
    }
   ],
   "source": [
    "type(e)"
   ]
  }
 ],
 "metadata": {
  "kernelspec": {
   "display_name": "Python 3 (ipykernel)",
   "language": "python",
   "name": "python3"
  },
  "language_info": {
   "codemirror_mode": {
    "name": "ipython",
    "version": 3
   },
   "file_extension": ".py",
   "mimetype": "text/x-python",
   "name": "python",
   "nbconvert_exporter": "python",
   "pygments_lexer": "ipython3",
   "version": "3.10.8"
  }
 },
 "nbformat": 4,
 "nbformat_minor": 5
}
