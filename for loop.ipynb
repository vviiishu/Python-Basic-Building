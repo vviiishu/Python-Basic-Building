{
 "cells": [
  {
   "cell_type": "code",
   "execution_count": 2,
   "id": "76dc0c66-8ace-45f1-b0c4-faf81ee4d55f",
   "metadata": {},
   "outputs": [],
   "source": [
    "l=[2,3,4,5,6,7]"
   ]
  },
  {
   "cell_type": "code",
   "execution_count": 2,
   "id": "19bcf927-43d7-4091-ad2c-afaf7eb352f3",
   "metadata": {},
   "outputs": [
    {
     "data": {
      "text/plain": [
       "[2, 3, 4, 5, 6, 7]"
      ]
     },
     "execution_count": 2,
     "metadata": {},
     "output_type": "execute_result"
    }
   ],
   "source": [
    "l"
   ]
  },
  {
   "cell_type": "code",
   "execution_count": 3,
   "id": "9079e562-7be3-48fd-8996-45fe8dcb7441",
   "metadata": {},
   "outputs": [
    {
     "name": "stdout",
     "output_type": "stream",
     "text": [
      "2\n",
      "3\n",
      "4\n",
      "5\n",
      "6\n",
      "7\n"
     ]
    }
   ],
   "source": [
    "for i in l:\n",
    "    print(i)"
   ]
  },
  {
   "cell_type": "code",
   "execution_count": 4,
   "id": "8832cad2-4138-468b-b013-a6273c373fed",
   "metadata": {},
   "outputs": [
    {
     "data": {
      "text/plain": [
       "[2, 3, 4, 5, 6, 7]"
      ]
     },
     "execution_count": 4,
     "metadata": {},
     "output_type": "execute_result"
    }
   ],
   "source": [
    "l[: : 1]"
   ]
  },
  {
   "cell_type": "code",
   "execution_count": 5,
   "id": "52b43508-13d3-42fc-b6dc-55aa6dc3a50b",
   "metadata": {},
   "outputs": [
    {
     "name": "stdout",
     "output_type": "stream",
     "text": [
      "4\n",
      "5\n",
      "6\n",
      "7\n",
      "8\n",
      "9\n"
     ]
    }
   ],
   "source": [
    "for i in l:\n",
    "    print(i+2)"
   ]
  },
  {
   "cell_type": "code",
   "execution_count": 6,
   "id": "48f451f2-e313-4758-8b9f-70ea0bc26760",
   "metadata": {},
   "outputs": [
    {
     "name": "stdout",
     "output_type": "stream",
     "text": [
      "2\n",
      "4\n",
      "6\n"
     ]
    }
   ],
   "source": [
    "for i in l:\n",
    "    if i%2==0:\n",
    "        print(i)"
   ]
  },
  {
   "cell_type": "code",
   "execution_count": 5,
   "id": "e22afc9e-98c1-4796-bd6c-54c98c06632b",
   "metadata": {},
   "outputs": [
    {
     "name": "stdout",
     "output_type": "stream",
     "text": [
      "[2, 3, 4, 5, 6, 7]\n"
     ]
    }
   ],
   "source": [
    "l2=[]\n",
    "for i in l:\n",
    "     l2.append(i)\n",
    "print(l2)\n",
    "    "
   ]
  },
  {
   "cell_type": "code",
   "execution_count": 7,
   "id": "e273b46b-1682-474e-a91c-6c7ed66ed6ac",
   "metadata": {},
   "outputs": [
    {
     "name": "stdout",
     "output_type": "stream",
     "text": [
      "2\n",
      "3\n",
      "4\n",
      "5\n",
      "6\n",
      "7\n",
      "ye tab chlega jab loop complete ho jyaga\n"
     ]
    }
   ],
   "source": [
    "for i in l:\n",
    "     print(i)\n",
    "else:\n",
    "    print(\"ye tab chlega jab loop complete ho jyaga\")"
   ]
  },
  {
   "cell_type": "code",
   "execution_count": 14,
   "id": "ae29aec3-e472-4c7c-ac12-c9b082982ef9",
   "metadata": {},
   "outputs": [
    {
     "name": "stdout",
     "output_type": "stream",
     "text": [
      "2\n",
      "3\n",
      "4\n"
     ]
    }
   ],
   "source": [
    "for i in l:\n",
    "    print(i)\n",
    "    if i==4:\n",
    "        break\n",
    "    \n",
    "else:\n",
    "    print(\"ye tab chlega jab loop complete ho jyaga\")"
   ]
  },
  {
   "cell_type": "code",
   "execution_count": 16,
   "id": "ce257873-7342-4ec5-b09e-2a95351049ce",
   "metadata": {},
   "outputs": [
    {
     "name": "stdout",
     "output_type": "stream",
     "text": [
      "27\n"
     ]
    }
   ],
   "source": [
    "sum=0\n",
    "for i in l:\n",
    "    sum=sum+i;\n",
    "print(sum)"
   ]
  },
  {
   "cell_type": "code",
   "execution_count": 3,
   "id": "3d9dcc2f-500a-4c95-8a9b-1c71abd22ac2",
   "metadata": {},
   "outputs": [],
   "source": [
    "l3=[1,2,3,4,\"ram\",\"mohan\",\"shayam\",True,False]"
   ]
  },
  {
   "cell_type": "code",
   "execution_count": 4,
   "id": "2d560534-eb3c-4784-bc68-899fb5294aa5",
   "metadata": {},
   "outputs": [
    {
     "name": "stdout",
     "output_type": "stream",
     "text": [
      "[1, 2, 3, 4]\n",
      "['ram', 'mohan', 'shayam']\n",
      "[True, False]\n"
     ]
    }
   ],
   "source": [
    "a=[]\n",
    "b=[]\n",
    "c=[]\n",
    "for i in l3:\n",
    "    if type(i)==int:\n",
    "        a.append(i)\n",
    "    elif type(i)==str:\n",
    "        b.append(i)\n",
    "    else:\n",
    "        c.append(i)\n",
    "print(a)\n",
    "print(b)\n",
    "print(c)"
   ]
  },
  {
   "cell_type": "code",
   "execution_count": null,
   "id": "5f46c871-bf5b-4384-b6cb-144e9b18da8c",
   "metadata": {},
   "outputs": [],
   "source": []
  }
 ],
 "metadata": {
  "kernelspec": {
   "display_name": "Python 3 (ipykernel)",
   "language": "python",
   "name": "python3"
  },
  "language_info": {
   "codemirror_mode": {
    "name": "ipython",
    "version": 3
   },
   "file_extension": ".py",
   "mimetype": "text/x-python",
   "name": "python",
   "nbconvert_exporter": "python",
   "pygments_lexer": "ipython3",
   "version": "3.10.8"
  }
 },
 "nbformat": 4,
 "nbformat_minor": 5
}
