{
 "cells": [
  {
   "cell_type": "code",
   "execution_count": 4,
   "id": "548fc6ca-3c92-4264-b3b7-8b9736c579c3",
   "metadata": {},
   "outputs": [],
   "source": [
    "a=500"
   ]
  },
  {
   "cell_type": "code",
   "execution_count": 5,
   "id": "78255758-3aa1-4318-b2bb-0ff607703434",
   "metadata": {},
   "outputs": [
    {
     "data": {
      "text/plain": [
       "500"
      ]
     },
     "execution_count": 5,
     "metadata": {},
     "output_type": "execute_result"
    }
   ],
   "source": [
    "a"
   ]
  },
  {
   "cell_type": "code",
   "execution_count": 7,
   "id": "e2a62ce3-0ab1-4cec-a3f0-7a8c0c10d1c3",
   "metadata": {},
   "outputs": [
    {
     "name": "stdin",
     "output_type": "stream",
     "text": [
      " 562\n"
     ]
    }
   ],
   "source": [
    "price=input()"
   ]
  },
  {
   "cell_type": "code",
   "execution_count": 8,
   "id": "b61573df-28d0-45e5-95c3-53cbeac8bc54",
   "metadata": {},
   "outputs": [
    {
     "data": {
      "text/plain": [
       "'562'"
      ]
     },
     "execution_count": 8,
     "metadata": {},
     "output_type": "execute_result"
    }
   ],
   "source": [
    "price    #always give string as o/p we need to typecast"
   ]
  },
  {
   "cell_type": "code",
   "execution_count": 9,
   "id": "f0788152-7f0f-4d55-a83b-60cef6680c47",
   "metadata": {},
   "outputs": [
    {
     "name": "stdin",
     "output_type": "stream",
     "text": [
      "enter value for price 258\n"
     ]
    },
    {
     "name": "stdout",
     "output_type": "stream",
     "text": [
      "sirf pant kharidunga\n"
     ]
    }
   ],
   "source": [
    "price=int(input(\"enter value for price\"))\n",
    "if price<=100:\n",
    "    print(\" sab kharid lunga\")\n",
    "elif price>200:\n",
    "        print(\"sirf pant kharidunga\")\n",
    "else:\n",
    "    print(\"kuch ni kharidunga\")"
   ]
  }
 ],
 "metadata": {
  "kernelspec": {
   "display_name": "Python 3 (ipykernel)",
   "language": "python",
   "name": "python3"
  },
  "language_info": {
   "codemirror_mode": {
    "name": "ipython",
    "version": 3
   },
   "file_extension": ".py",
   "mimetype": "text/x-python",
   "name": "python",
   "nbconvert_exporter": "python",
   "pygments_lexer": "ipython3",
   "version": "3.10.8"
  }
 },
 "nbformat": 4,
 "nbformat_minor": 5
}
