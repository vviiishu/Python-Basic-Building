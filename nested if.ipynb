{
 "cells": [
  {
   "cell_type": "code",
   "execution_count": 8,
   "id": "ec27d618-2893-42fc-84cc-814f6c3b7db7",
   "metadata": {},
   "outputs": [
    {
     "name": "stdin",
     "output_type": "stream",
     "text": [
      "enter number 0\n"
     ]
    },
    {
     "name": "stdout",
     "output_type": "stream",
     "text": [
      "number is zero\n"
     ]
    }
   ],
   "source": [
    "number =int(input(\"enter number\"))\n",
    "\n",
    "if number%2==0:\n",
    "    if number==0:\n",
    "        print(\"number is zero\")\n",
    "    else:\n",
    "        print(\"number is even\")\n",
    "else:\n",
    "    print(\"number is odd\")"
   ]
  },
  {
   "cell_type": "code",
   "execution_count": null,
   "id": "53682f21-a58a-4253-be57-f97cc5240ac4",
   "metadata": {},
   "outputs": [],
   "source": [
    "age=int(input(\"enter age\"))\n",
    "citizen=input(\"are you citizen of india?\")\n",
    "voter_id=input(\"do you have voter id card?\")\n",
    "\n",
    "if age>=18:\n",
    "    if citizen==\"yes\":\n",
    "        if voter_id==\"yes\":\n",
    "            print(\"vote de skte ho\")\n",
    "else:\n",
    "    print(\"vote ni de skte age kam hai\")"
   ]
  }
 ],
 "metadata": {
  "kernelspec": {
   "display_name": "Python 3 (ipykernel)",
   "language": "python",
   "name": "python3"
  },
  "language_info": {
   "codemirror_mode": {
    "name": "ipython",
    "version": 3
   },
   "file_extension": ".py",
   "mimetype": "text/x-python",
   "name": "python",
   "nbconvert_exporter": "python",
   "pygments_lexer": "ipython3",
   "version": "3.10.8"
  }
 },
 "nbformat": 4,
 "nbformat_minor": 5
}
